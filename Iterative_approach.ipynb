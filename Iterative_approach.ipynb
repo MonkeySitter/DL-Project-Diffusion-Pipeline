{
  "nbformat": 4,
  "nbformat_minor": 0,
  "metadata": {
    "colab": {
      "provenance": []
    },
    "kernelspec": {
      "name": "python3",
      "display_name": "Python 3"
    },
    "language_info": {
      "name": "python"
    }
  },
  "cells": [
    {
      "cell_type": "markdown",
      "source": [
        "### **Step 1**: Design the image scene/story"
      ],
      "metadata": {
        "id": "cQQjfSqh7m2-"
      }
    },
    {
      "cell_type": "code",
      "execution_count": null,
      "metadata": {
        "colab": {
          "base_uri": "https://localhost:8080/"
        },
        "id": "6KVuKRxZ3QL7",
        "outputId": "de9b18b7-42c3-4064-8c1c-8920c7f76f91"
      },
      "outputs": [
        {
          "output_type": "stream",
          "name": "stdout",
          "text": [
            "Here are three potential items within the scene, along with their corresponding storylines:\n",
            "\n",
            "1. **Item:** Baseball Glove\n",
            "**Storyline:** \"The Catch of a Lifetime\"\n",
            "\n",
            "In the foreground of the image, a worn baseball glove lies open on the grass, its worn leather suggesting countless catch-and-throw sessions with friends and family. As the sun begins to set, a young player (maybe a kid or a nostalgic adult) sits next to it, gazing wistfully at the glove as if remembering a special catch. Maybe it was a game-winning play, or a moment with a loved one that will be treasured forever. The glove almost seems like a time capsule, holding the memories of all those glorious afternoons spent playing America's pastime.\n",
            "\n",
            "2. **Item:** Baseball Bat\n",
            "**Storyline:** \"The Winning Hit\"\n",
            "\n",
            "Deep within the scene, against the bright blue sky, a baseball bat leans against a tall grass blade, its once-polished surface now bearing the battle scars of countless swings. Nearby, a worn baseball cap lies on the ground, as if the player had just tossed it aside in the heat of the moment. This stunt bat has seen its share of grand slams, home runs, and heroics on the diamond. Maybe it belongs to the local high school team's star slugger, or a dad who's reliving his own childhood baseball dreams through his son. Whatever the story, the bat exudes the energy of a recent win, its vibrant colors bleeding into the surrounding greenery.\n",
            "\n",
            "3. **Item:** Water Bottle\n",
            "**Storyline:** \"The Unsung Hero\"\n",
            "\n",
            "Off in the distance, resting against a leafy tree, a water bottle lies empty and crumpled, its once-clear waters now long gone. Despite being mere yardage away from the action, this unassuming water bottle has played a vital role in the game, quenching the thirst of the players during the sweltering summer heat. Maybe it's the dependable companion of a veteran coach, or a trusted hydration sidekick for the team's ace pitcher. Though it may seem inconsequential compared to the excitement of the game, this water bottle knows it's only by staying hydrated that the team can perform at its best."
          ]
        }
      ],
      "source": [
        "from huggingface_hub import InferenceClient\n",
        "\n",
        "output = \"\"\n",
        "image_size = (1920, 1080)\n",
        "background_prompt = \"baseball\"\n",
        "token = \"Insert token\"\n",
        "\n",
        "# Define the prompt for generating bounding box details\n",
        "user_prompt = (f\"Given an image size of {image_size} pixels with the theme: '{background_prompt}', \"\n",
        "               \"provide the storyline of 3 items within the scene. \")\n",
        "\n",
        "\n",
        "client = InferenceClient(\n",
        "    \"meta-llama/Meta-Llama-3-8B-Instruct\",\n",
        "    token=token,\n",
        ")\n",
        "\n",
        "# Prompt for generating bounding box details\n",
        "for message in client.chat_completion(\n",
        "    messages=[{\"role\": \"user\", \"content\": f\"{user_prompt}\"}],\n",
        "    max_tokens=500,\n",
        "    stream=True,\n",
        "):\n",
        "    print(message.choices[0].delta.content, end=\"\")\n",
        "    output += message.choices[0].delta.content\n",
        "\n"
      ]
    },
    {
      "cell_type": "markdown",
      "source": [
        "### **Step 2**: Analyze the spatial relationships between the objects\n"
      ],
      "metadata": {
        "id": "aWxE78vU8AF-"
      }
    },
    {
      "cell_type": "code",
      "source": [
        "output1 = \"\"\n",
        "for message2 in client.chat_completion(\n",
        "    messages=[{\"role\": \"user\", \"content\": f\"Analyze the spatial relationships between the objects described in the following output. Detail how the items are positioned relative to one another, including distances, orientations, alignments, and patterns: {output}\"}],\n",
        "    max_tokens=500,\n",
        "    stream=True,\n",
        "):\n",
        "    output1 += message2.choices[0].delta.content\n",
        "print(output1)"
      ],
      "metadata": {
        "colab": {
          "base_uri": "https://localhost:8080/"
        },
        "id": "piCBTHbi87Iq",
        "outputId": "46c4342c-3a9c-423b-8e59-7f95d646112e"
      },
      "execution_count": null,
      "outputs": [
        {
          "output_type": "stream",
          "name": "stdout",
          "text": [
            "What a lovely scene! Let's dive into the spatial relationships between these three items:\n",
            "\n",
            "**Baseball Glove (1)**\n",
            "\n",
            "* Position: In the foreground of the image\n",
            "* Orientation: Open and laid flat on the grass, with the palm facing upwards\n",
            "* Alignment: Sits next to a human (the young player), with the glove's heel near the edge of the grass\n",
            "* Distance: From the human, approximately 1-2 feet (0.3-0.6 meters)\n",
            "* Relation to other items: Close proximity to the human, creating a sense of intimacy and nostalgia\n",
            "\n",
            "**Baseball Bat (2)**\n",
            "\n",
            "* Position: Deep within the scene, against the tall grass blade\n",
            "* Orientation: Leaning against the grass, with the handle resting against the ground and the barrel pointing upwards\n",
            "* Alignment: Points towards the top of the image, almost parallel to the horizon\n",
            "* Distance: From the glove, approximately 5-6 feet (1.5-1.8 meters) away\n",
            "* Relation to other items: Not directly adjacent to the glove or human, creating a sense of distance and dimensionality in the scene\n",
            "\n",
            "**Water Bottle (3)**\n",
            "\n",
            "* Position: Off in the distance, resting against a leafy tree\n",
            "* Orientation: Crumpled and lying flat, with the cap facing downwards\n",
            "* Alignment: Points towards the bottom-left quadrant of the image, slightly angled away from the viewer\n",
            "* Distance: From the bat, approximately 8-10 feet (2.4-3 meters) away\n",
            "* Relation to other items: Furthest from the glove and human, creating a sense of separation and depth in the scene\n",
            "\n",
            "Some notable patterns and observations:\n",
            "\n",
            "* The scene has a natural, effortless feel, with the items positioned in a way that suggests they've been left behind after a game or practice.\n",
            "* The colors and textures of the items blend seamlessly with the surrounding environment, creating a sense of harmony and integration with the natural world.\n",
            "* The orientation of the bat and water bottle creates a sense of movement and action, even though they're not actively being used. This adds to the sense of energy and dynamism in the scene.\n",
            "* The glove, as the central focus, serves as a time capsule, holding memories and emotions. This creates a sense of intimacy and nostalgia, drawing the viewer in.\n",
            "\n",
            "Overall, the spatial relationships between these items create a captivating and immersive scene that invites the viewer to step into the\n"
          ]
        }
      ]
    },
    {
      "cell_type": "markdown",
      "source": [
        "### **Step 3**: Relationship between the items on 3x3 grid. The grid consists of nine sections: upper-left, upper-middle, upper-right, middle-left, center, middle-right, bottom-left, bottom-middle, and bottom-right"
      ],
      "metadata": {
        "id": "hsv1Blap9BVf"
      }
    },
    {
      "cell_type": "code",
      "source": [
        "output2 = \"\"\n",
        "for message2 in client.chat_completion(\n",
        "    messages=[{\"role\": \"user\", \"content\": f\"Arrange the items from the provided text: {output} and {output1} on a 3x3 grid, considering their relative relationships. The grid consists of nine sections: upper-left, upper-middle, upper-right, middle-left, center, middle-right, bottom-left, bottom-middle, and bottom-right.\"}],\n",
        "    max_tokens=500,\n",
        "    stream=True,\n",
        "):\n",
        "    output2 += message2.choices[0].delta.content\n",
        "print(output2)"
      ],
      "metadata": {
        "colab": {
          "base_uri": "https://localhost:8080/"
        },
        "id": "Givo3Vk3_dsI",
        "outputId": "f02d9deb-cc9d-42ea-b948-30d691a03a6b"
      },
      "execution_count": null,
      "outputs": [
        {
          "output_type": "stream",
          "name": "stdout",
          "text": [
            "Here are the items arranged in their respective positions and relation to each other:\n",
            "\n",
            "**Upper-Left (1-2 feet from the human)**\n",
            "\n",
            "* Baseball Glove (1)\n",
            "\t+ Open and laid flat on the grass, with the palm facing upwards\n",
            "\t+ Sits next to a human (the young player)\n",
            "\n",
            "**Upper-Middle (5-6 feet away from the glove)**\n",
            "\n",
            "* Baseball Bat (2)\n",
            "\t+ Leaning against a tall grass blade, with the handle resting against the ground and the barrel pointing upwards\n",
            "\t+ Points towards the top of the image, almost parallel to the horizon\n",
            "\n",
            "**Bottom-Left (8-10 feet away from the bat)**\n",
            "\n",
            "* Water Bottle (3)\n",
            "\t+ Off in the distance, resting against a leafy tree\n",
            "\t+ Crumpled and lying flat, with the cap facing downwards\n",
            "\t+ Points towards the bottom-left quadrant of the image, slightly angled away from the viewer\n"
          ]
        }
      ]
    },
    {
      "cell_type": "markdown",
      "source": [
        "## **Step 4**: Produce central positions"
      ],
      "metadata": {
        "id": "f8kBTqHKC3Ud"
      }
    },
    {
      "cell_type": "code",
      "source": [
        "output3 = \"\"\n",
        "for message2 in client.chat_completion(\n",
        "    messages=[{\"role\": \"user\", \"content\": f\" Choose reasonable positions for the items with image_size = {image_size}. For each item, provide its name and coordinates in the format: 'Item: [x, y] '. Below is the room description: {output} and the relative relationships beteween the items: {output1} and the postions on a 3x3 grid: {output2}\"}],\n",
        "    max_tokens=500,\n",
        "    stream=True,\n",
        "):\n",
        "    output3 += message2.choices[0].delta.content\n",
        "print(output3)"
      ],
      "metadata": {
        "colab": {
          "base_uri": "https://localhost:8080/"
        },
        "id": "kN6bQK9_FKOi",
        "outputId": "9ee4bb17-6d0a-4160-94c0-a8a5185d6af7"
      },
      "execution_count": null,
      "outputs": [
        {
          "output_type": "stream",
          "name": "stdout",
          "text": [
            "Here are the positions for each item in the format 'Item: [x, y]' on a 3x3 grid with an image size of (1920, 1080):\n",
            "\n",
            "**Baseball Glove (1)**\n",
            "Item: [192, 270]\n",
            "\n",
            "**Baseball Bat (2)**\n",
            "Item: [960, 540]\n",
            "\n",
            "**Water Bottle (3)**\n",
            "Item: [1440, 720]\n",
            "\n",
            "These positions create a balance between intimacy and distance between the items, and the natural and effortless feel of the scene is maintained.\n"
          ]
        }
      ]
    },
    {
      "cell_type": "markdown",
      "source": [
        "## **Step 5**: Produce Bounding boxes"
      ],
      "metadata": {
        "id": "QXfGoaXGFVCU"
      }
    },
    {
      "cell_type": "code",
      "source": [
        "output4 = \"\"\n",
        "for message2 in client.chat_completion(\n",
        "    messages=[{\"role\": \"user\", \"content\": f\"For each item, provide a reasonable bounding box, make sure they dont overlap, in the format: **item**: [x left, x right, y down, y up] Below is the image description: {output}, spatial relationship: {output1}, spatial relationship on a 3x3 grid:{output2} and the items coodinates {output3}\"}],\n",
        "    max_tokens=500,\n",
        "    stream=True,\n",
        "):\n",
        "    output4 += message2.choices[0].delta.content\n",
        "print(output4)"
      ],
      "metadata": {
        "colab": {
          "base_uri": "https://localhost:8080/"
        },
        "id": "BAPf1MHwFe4M",
        "outputId": "f3ab4b8e-638d-44f4-882e-c0cae6b70c84"
      },
      "execution_count": null,
      "outputs": [
        {
          "output_type": "stream",
          "name": "stdout",
          "text": [
            "Here are the bounding boxes for each item, without overlap, in the format: **Item**: [x left, x right, y down, y up]\n",
            "\n",
            "**Baseball Glove (1)**\n",
            "Item: [180, 250, 250, 320]\n",
            "\n",
            "**Baseball Bat (2)**\n",
            "Item: [860, 1020, 480, 600]\n",
            "\n",
            "**Water Bottle (3)**\n",
            "Item: [1340, 1510, 680, 800]\n",
            "\n",
            "These bounding boxes ensure that each item has a distinct space and doesn't overlap with the others. The positions are slightly adjusted to accommodate the specified distances and alignments in the scene.\n"
          ]
        }
      ]
    },
    {
      "cell_type": "markdown",
      "source": [
        "# **Ploting Bounding Boxes**\n",
        "\n",
        "\n",
        "\n",
        "\n",
        "\n"
      ],
      "metadata": {
        "id": "j9qCq5tKGoyg"
      }
    },
    {
      "cell_type": "code",
      "source": [
        "output5 = \"\"\n",
        "for message2 in client.chat_completion(\n",
        "\n",
        "    messages=[{\"role\": \"user\", \"content\": f\"Make a list of the items names and thier bounding boxes (in the format: 1. **item**: [x left, x right, y down, y up]) from the description: {output4}.\"}],\n",
        "    max_tokens=500,\n",
        "    stream=True,\n",
        "):\n",
        "    output5 += message2.choices[0].delta.content\n",
        "\n",
        "import re\n",
        "import matplotlib.pyplot as plt\n",
        "import matplotlib.patches as patches\n",
        "import numpy as np\n",
        "\n",
        "\n",
        "\n",
        "# Extract item names and bounding boxes using regex\n",
        "item_pattern = r\"(\\d+)\\.\\s*\\*\\*(.*?)\\*\\*:\\s*\\[(\\d+),\\s*(\\d+),\\s*(\\d+),\\s*(\\d+)\\]\"\n",
        "matches = re.findall(item_pattern, output5)\n",
        "\n",
        "# Prepare a list to hold the extracted information\n",
        "items_with_boxes = []\n",
        "\n",
        "for match in matches:\n",
        "    item_index, item_name, x_left, x_right, y_down, y_up = match\n",
        "    items_with_boxes.append({\n",
        "        'name': item_name,\n",
        "        'bbox': [int(x_left), int(x_right), int(y_down), int(y_up)]\n",
        "    })\n",
        "    print(item_name, int(x_left), int(x_right), int(y_down), int(y_up))\n",
        "\n",
        "# Plotting the bounding boxes\n",
        "fig, ax = plt.subplots(1, figsize=(8, 8))\n",
        "\n",
        "# Create a white background image (768x768)\n",
        "ax.set_xlim([0, 1920])\n",
        "ax.set_ylim([0, 1080])\n",
        "ax.imshow([[1]], extent=[0, 768, 0, 768], cmap='gray', vmin=0, vmax=1)\n",
        "\n",
        "# Generate a colormap with different colors\n",
        "colors = plt.cm.get_cmap('tab10', len(items_with_boxes))  # 'tab10' provides 10 distinct colors\n",
        "\n",
        "# Add bounding boxes and labels to a legend\n",
        "legend_patches = []\n",
        "\n",
        "for idx, item in enumerate(items_with_boxes):\n",
        "    bbox = item['bbox']\n",
        "    name = item['name']\n",
        "\n",
        "    # Draw bounding box with different colors\n",
        "    rect = patches.Rectangle((bbox[0], bbox[2]), bbox[1] - bbox[0], bbox[3] - bbox[2],\n",
        "                             linewidth=2, edgecolor=colors(idx), facecolor='none')\n",
        "    ax.add_patch(rect)\n",
        "\n",
        "    # Add legend entry\n",
        "    legend_patches.append(patches.Patch(edgecolor=colors(idx), facecolor='none', label=name))\n",
        "\n",
        "# Add legend outside the plot\n",
        "ax.legend(handles=legend_patches, loc='upper left', bbox_to_anchor=(1, 1))\n",
        "\n",
        "\n",
        "plt.show()\n"
      ],
      "metadata": {
        "colab": {
          "base_uri": "https://localhost:8080/",
          "height": 496
        },
        "id": "XaRFHND-G0Zo",
        "outputId": "387007fb-762a-49ad-d0d5-70d04625d79b"
      },
      "execution_count": null,
      "outputs": [
        {
          "output_type": "stream",
          "name": "stdout",
          "text": [
            "Baseball Glove 180 250 250 320\n",
            "Baseball Bat 860 1020 480 600\n",
            "Water Bottle 1340 1510 680 800\n"
          ]
        },
        {
          "output_type": "stream",
          "name": "stderr",
          "text": [
            "<ipython-input-9-4b122fc0ca44>:41: MatplotlibDeprecationWarning: The get_cmap function was deprecated in Matplotlib 3.7 and will be removed two minor releases later. Use ``matplotlib.colormaps[name]`` or ``matplotlib.colormaps.get_cmap(obj)`` instead.\n",
            "  colors = plt.cm.get_cmap('tab10', len(items_with_boxes))  # 'tab10' provides 10 distinct colors\n"
          ]
        },
        {
          "output_type": "display_data",
          "data": {
            "text/plain": [
              "<Figure size 800x800 with 1 Axes>"
            ],
            "image/png": "[encoded data removed]"
          },
          "metadata": {}
        }
      ]
    }
  ]
}