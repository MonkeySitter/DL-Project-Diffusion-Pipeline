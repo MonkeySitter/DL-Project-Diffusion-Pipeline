{
  "nbformat": 4,
  "nbformat_minor": 0,
  "metadata": {
    "colab": {
      "provenance": []
    },
    "kernelspec": {
      "name": "python3",
      "display_name": "Python 3"
    },
    "language_info": {
      "name": "python"
    }
  },
  "cells": [
    {
      "cell_type": "markdown",
      "source": [
        "# **Invent objects from a chosen subject and directly produce Bounding Boxes**"
      ],
      "metadata": {
        "id": "bw_15b0aIBk1"
      }
    },
    {
      "cell_type": "code",
      "source": [
        "from huggingface_hub import InferenceClient\n",
        "\n",
        "output = \"\"\n",
        "image_size = (1920, 1080)\n",
        "background_prompt = \"nature\"\n",
        "token = \"Insert token\"\n",
        "\n",
        "# Define the prompt for generating bounding box details\n",
        "user_prompt = (f\"Given an image size of {image_size} pixels with the theme: '{background_prompt}', \"\n",
        "               \"provide the positions and sizes of 3 items within the scene. Each item should have a \"\n",
        "               \"reasonable size and position relative to the image dimensions (make them big). Format the output as: \"\n",
        "               \"x: (x-coordinate), y: (y-coordinate), w: (width), h: (height), prompt: (item description).\")\n",
        "\n",
        "\n",
        "client = InferenceClient(\n",
        "    \"meta-llama/Meta-Llama-3-8B-Instruct\",\n",
        "    token=token,\n",
        ")\n",
        "\n",
        "# Prompt for generating bounding box details\n",
        "for message in client.chat_completion(\n",
        "    messages=[{\"role\": \"user\", \"content\": f\"{user_prompt}\"}],\n",
        "    max_tokens=500,\n",
        "    stream=True,\n",
        "):\n",
        "    print(message.choices[0].delta.content, end=\"\")\n",
        "    output += message.choices[0].delta.content\n",
        "\n",
        "\n",
        "\n",
        "\n",
        "# Process the output to fit the bounding box format\n",
        "items = output.splitlines()  # assuming model outputs one item per line\n",
        "bounding_boxes = []\n",
        "\n",
        "# Generate bounding boxes based on output\n",
        "for item in items:\n",
        "    try:\n",
        "        # Parse the coordinates and prompt from the output\n",
        "        parts = item.split(\",\")\n",
        "        x = int(parts[0].split(\":\")[1].strip())\n",
        "        y = int(parts[1].split(\":\")[1].strip())\n",
        "        w = int(parts[2].split(\":\")[1].strip())\n",
        "        h = int(parts[3].split(\":\")[1].strip())\n",
        "        prompt = parts[4].split(\":\")[1].strip()\n",
        "\n",
        "        # Add the bounding box to the list\n",
        "        bounding_boxes.append({'x': x, 'y': y, 'w': w, 'h': h, 'prompt': prompt})\n",
        "    except (IndexError, ValueError):\n",
        "        # print(f\"Skipping item due to parsing error: {item}\")\n",
        "        continue\n",
        "\n",
        "# Output the final result\n",
        "final_output = {\n",
        "    \"image_size\": image_size,\n",
        "    \"background_prompt\": background_prompt,\n",
        "    \"bounding_boxes\": bounding_boxes\n",
        "}\n",
        "\n",
        "# Print the output as a Python dictionary\n",
        "print(final_output)\n"
      ],
      "metadata": {
        "colab": {
          "base_uri": "https://localhost:8080/"
        },
        "id": "J0fodFD3IDSB",
        "outputId": "99c4e618-b2f2-4d57-9cde-7d93e8e3caca"
      },
      "execution_count": null,
      "outputs": [
        {
          "output_type": "stream",
          "name": "stdout",
          "text": [
            "Here are the positions and sizes of 3 items within the scene:\n",
            "\n",
            "**Item 1:** \n",
            "x: 250, y: 150, w: 800, h: 600, prompt: \"Tree\"\n",
            "\n",
            "This tree is positioned in the left-top corner of the image and spans 800 pixels in width and 600 pixels in height, making it a dominant element in the scene.\n",
            "\n",
            "**Item 2:** \n",
            "x: 1200, y: 500, w: 400, h: 800, prompt: \"Mountain\"\n",
            "\n",
            "This mountain is situated in the center-right part of the image and stretches 400 pixels in width and 800 pixels in height, providing a striking contrast to the expansive sky above.\n",
            "\n",
            "**Item 3:** \n",
            "x: 50, y: 800, w: 1500, h: 200, prompt: \"River\"\n",
            "\n",
            "This river runs along the bottom-left edge of the image, occupying a significant width of 1500 pixels and a height of 200 pixels, providing a sense of flow and movement through the landscape.{'image_size': (1920, 1080), 'background_prompt': 'nature', 'bounding_boxes': [{'x': 250, 'y': 150, 'w': 800, 'h': 600, 'prompt': '\"Tree\"'}, {'x': 1200, 'y': 500, 'w': 400, 'h': 800, 'prompt': '\"Mountain\"'}, {'x': 50, 'y': 800, 'w': 1500, 'h': 200, 'prompt': '\"River\"'}]}\n"
          ]
        }
      ]
    },
    {
      "cell_type": "markdown",
      "source": [
        "## **Ploting Bounding Boxes**"
      ],
      "metadata": {
        "id": "iTbDEKw0I1yp"
      }
    },
    {
      "cell_type": "code",
      "source": [
        "output5 = \"\"\n",
        "for message2 in client.chat_completion(\n",
        "\n",
        "    messages=[{\"role\": \"user\", \"content\": f\"Make a list of the items names and thier bounding boxes (in the format: 1. **item**: [x left, x right, y down, y up]) from the description: {final_output}.\"}],\n",
        "    max_tokens=500,\n",
        "    stream=True,\n",
        "):\n",
        "    output5 += message2.choices[0].delta.content\n",
        "\n",
        "import re\n",
        "import matplotlib.pyplot as plt\n",
        "import matplotlib.patches as patches\n",
        "import numpy as np\n",
        "\n",
        "\n",
        "\n",
        "# Extract item names and bounding boxes using regex\n",
        "item_pattern = r\"(\\d+)\\.\\s*\\*\\*(.*?)\\*\\*:\\s*\\[(\\d+),\\s*(\\d+),\\s*(\\d+),\\s*(\\d+)\\]\"\n",
        "matches = re.findall(item_pattern, output5)\n",
        "\n",
        "# Prepare a list to hold the extracted information\n",
        "items_with_boxes = []\n",
        "\n",
        "for match in matches:\n",
        "    item_index, item_name, x_left, x_right, y_down, y_up = match\n",
        "    items_with_boxes.append({\n",
        "        'name': item_name,\n",
        "        'bbox': [int(x_left), int(x_right), int(y_down), int(y_up)]\n",
        "    })\n",
        "    print(item_name, int(x_left), int(x_right), int(y_down), int(y_up))\n",
        "\n",
        "# Plotting the bounding boxes\n",
        "fig, ax = plt.subplots(1, figsize=(8, 8))\n",
        "\n",
        "ax.set_xlim([0, 1920])\n",
        "ax.set_ylim([0, 1080])\n",
        "ax.imshow([[1]], extent=[0, 768, 0, 768], cmap='gray', vmin=0, vmax=1)\n",
        "\n",
        "# Generate a colormap with different colors\n",
        "colors = plt.cm.get_cmap('tab10', len(items_with_boxes))  # 'tab10' provides 10 distinct colors\n",
        "\n",
        "# Add bounding boxes and labels to a legend\n",
        "legend_patches = []\n",
        "\n",
        "for idx, item in enumerate(items_with_boxes):\n",
        "    bbox = item['bbox']\n",
        "    name = item['name']\n",
        "\n",
        "    # Draw bounding box with different colors\n",
        "    rect = patches.Rectangle((bbox[0], bbox[2]), bbox[1] - bbox[0], bbox[3] - bbox[2],\n",
        "                             linewidth=2, edgecolor=colors(idx), facecolor='none')\n",
        "    ax.add_patch(rect)\n",
        "\n",
        "    # Add legend entry\n",
        "    legend_patches.append(patches.Patch(edgecolor=colors(idx), facecolor='none', label=name))\n",
        "\n",
        "# Add legend outside the plot\n",
        "ax.legend(handles=legend_patches, loc='upper left', bbox_to_anchor=(1, 1))\n",
        "\n",
        "\n",
        "plt.show()\n"
      ],
      "metadata": {
        "colab": {
          "base_uri": "https://localhost:8080/",
          "height": 496
        },
        "id": "Zl3A5PBaI_I2",
        "outputId": "3fcd0ff6-cdee-4253-94e8-904e8d6a19d2"
      },
      "execution_count": null,
      "outputs": [
        {
          "output_type": "stream",
          "name": "stdout",
          "text": [
            "Tree 250 1050 150 750\n",
            "Mountain 1200 1300 600 2300\n",
            "River 50 1550 1550 1000\n"
          ]
        },
        {
          "output_type": "stream",
          "name": "stderr",
          "text": [
            "<ipython-input-35-95f50c6bd8d8>:40: MatplotlibDeprecationWarning: The get_cmap function was deprecated in Matplotlib 3.7 and will be removed two minor releases later. Use ``matplotlib.colormaps[name]`` or ``matplotlib.colormaps.get_cmap(obj)`` instead.\n",
            "  colors = plt.cm.get_cmap('tab10', len(items_with_boxes))  # 'tab10' provides 10 distinct colors\n"
          ]
        },
        {
          "output_type": "display_data",
          "data": {
            "text/plain": [
              "<Figure size 800x800 with 1 Axes>"
            ],
            "image/png": "[encoded data removed]"
          },
          "metadata": {}
        }
      ]
    },
    {
      "cell_type": "markdown",
      "source": [
        "# **Transform output5 format**"
      ],
      "metadata": {
        "id": "3GYc6KCWKGxd"
      }
    },
    {
      "cell_type": "code",
      "source": [
        "import re\n",
        "\n",
        "def parse_and_transform(input_string, theme):\n",
        "    bounding_boxes = []\n",
        "\n",
        "    # Regular expression pattern to match item name and bounding box\n",
        "    pattern = r'\\*\\*(.*?)\\*\\*: \\[(\\d+), (\\d+), (\\d+), (\\d+)\\]'\n",
        "\n",
        "    # Find all matches in the input string\n",
        "    matches = re.findall(pattern, input_string)\n",
        "\n",
        "    # Loop over matches and extract the necessary data\n",
        "    for match in matches:\n",
        "        name = match[0]  # Extract item name\n",
        "        x1, x2, y1, y2 = map(int, match[1:])  # Extract bounding box coordinates and convert to int\n",
        "\n",
        "        # Calculate width (w) and height (h)\n",
        "        w = x2 - x1\n",
        "        h = y2 - y1\n",
        "\n",
        "        # Create dictionary with the transformed format\n",
        "        bounding_box = {\n",
        "            'x': x1,\n",
        "            'y': y1,\n",
        "            'w': w,\n",
        "            'h': h,\n",
        "            'prompt': name\n",
        "        }\n",
        "\n",
        "        # Add to the list of bounding boxes\n",
        "        bounding_boxes.append(bounding_box)\n",
        "\n",
        "    # Output result\n",
        "    output = {\n",
        "        'theme': theme,\n",
        "        'bounding_boxes': bounding_boxes\n",
        "    }\n",
        "\n",
        "    return output\n",
        "\n",
        "\n",
        "\n",
        "bounding_boxes = parse_and_transform(output5,background_prompt)\n",
        "print(bounding_boxes)"
      ],
      "metadata": {
        "colab": {
          "base_uri": "https://localhost:8080/"
        },
        "id": "fghqOaoELX9e",
        "outputId": "fe202c7c-a3cf-40f6-9ab6-d26ac9466b28"
      },
      "execution_count": null,
      "outputs": [
        {
          "output_type": "stream",
          "name": "stdout",
          "text": [
            "{'theme': 'nature', 'bounding_boxes': [{'x': 250, 'y': 150, 'w': 800, 'h': 600, 'prompt': 'Tree'}, {'x': 1200, 'y': 600, 'w': 100, 'h': 1700, 'prompt': 'Mountain'}, {'x': 50, 'y': 1550, 'w': 1500, 'h': -550, 'prompt': 'River'}]}\n"
          ]
        }
      ]
    },
    {
      "cell_type": "code",
      "source": [
        "import json\n",
        "\n",
        "\n",
        "def create_config(image_size, bounding_boxes, background_prompt):\n",
        "\n",
        "\n",
        "    # Background configuration\n",
        "    bbox_controls = [{\n",
        "        \"enable\": True,\n",
        "        \"x\": 0,\n",
        "        \"y\": 0,\n",
        "        \"w\": 1,\n",
        "        \"h\": 1,\n",
        "        \"prompt\": background_prompt,\n",
        "        \"neg_prompt\": \"watermark, bad, ugly, low quality, cartoonish, text, blurry\",\n",
        "        \"blend_mode\": \"Background\",\n",
        "        \"feather_ratio\": 0.2,\n",
        "        \"seed\": 0\n",
        "    }]\n",
        "\n",
        "    # Bounding boxes configurations\n",
        "    for box in bounding_boxes:\n",
        "        box_config = {\n",
        "            \"enable\": True,\n",
        "            \"x\": box['x'] / image_size[0],  # Normalize x\n",
        "            \"y\": box['y'] / image_size[1],  # Normalize y\n",
        "            \"w\": box['w'] / image_size[0],  # Normalize width\n",
        "            \"h\": box['h'] / image_size[1],  # Normalize height\n",
        "            \"prompt\": box['prompt'],\n",
        "            \"neg_prompt\": \"watermark, bad, ugly, low quality, cartoonish, text, blurry\",\n",
        "            \"blend_mode\": \"Foreground\",\n",
        "            \"feather_ratio\": 0.2,\n",
        "            \"seed\": box.get(\"seed\", -1)  # Default seed to -1 if not provided\n",
        "        }\n",
        "        bbox_controls.append(box_config)\n",
        "\n",
        "    # Full configuration\n",
        "    config = {\n",
        "        \"bbox_controls\": bbox_controls\n",
        "    }\n",
        "\n",
        "    # Save the configuration as a JSON file\n",
        "    config_filename = f\"{background_prompt}.json\"\n",
        "    with open(config_filename, 'w') as f:\n",
        "        json.dump(config, f, indent=4)\n",
        "    print(f\"Configuration saved as {config_filename}\")\n"
      ],
      "metadata": {
        "id": "mBcAAuLKLo6V"
      },
      "execution_count": null,
      "outputs": []
    },
    {
      "cell_type": "code",
      "source": [
        "# Generate configuration\n",
        "create_config(image_size, bounding_boxes['bounding_boxes'], background_prompt)"
      ],
      "metadata": {
        "colab": {
          "base_uri": "https://localhost:8080/"
        },
        "id": "9bPodaGFLnsu",
        "outputId": "ef1d2617-c56a-4c10-c69a-efdad432c94a"
      },
      "execution_count": null,
      "outputs": [
        {
          "output_type": "stream",
          "name": "stdout",
          "text": [
            "Configuration saved as nature.json\n"
          ]
        }
      ]
    }
  ]
}